{
  "nbformat": 4,
  "nbformat_minor": 0,
  "metadata": {
    "colab": {
      "provenance": []
    },
    "kernelspec": {
      "name": "python3",
      "display_name": "Python 3"
    },
    "language_info": {
      "name": "python"
    }
  },
  "cells": [
    {
      "cell_type": "code",
      "execution_count": null,
      "metadata": {
        "colab": {
          "base_uri": "https://localhost:8080/"
        },
        "id": "-1mZHIYFQHtz",
        "outputId": "462a0cc3-e7e4-4430-c1dd-beafec8d6d64"
      },
      "outputs": [
        {
          "output_type": "stream",
          "name": "stdout",
          "text": [
            "Drive already mounted at /content/gdrive; to attempt to forcibly remount, call drive.mount(\"/content/gdrive\", force_remount=True).\n"
          ]
        }
      ],
      "source": [
        "from google.colab import drive\n",
        "drive.mount('/content/gdrive')\n"
      ]
    },
    {
      "cell_type": "code",
      "source": [
        "import pandas as pd\n",
        "import numpy as np\n",
        "import sklearn \n",
        "import matplotlib.pyplot as plt\n",
        "import seaborn as sns"
      ],
      "metadata": {
        "id": "rABeAfifQoKP"
      },
      "execution_count": null,
      "outputs": []
    },
    {
      "cell_type": "code",
      "execution_count": null,
      "metadata": {
        "id": "UkxYMWgt8H83"
      },
      "outputs": [],
      "source": [
        "from sklearn.metrics import ConfusionMatrixDisplay\n",
        "from sklearn.model_selection import GridSearchCV\n",
        "from sklearn.tree import DecisionTreeClassifier\n",
        "from sklearn.metrics import precision_score, recall_score, roc_auc_score, roc_curve, accuracy_score, f1_score, balanced_accuracy_score, matthews_corrcoef, confusion_matrix, auc, classification_report,cohen_kappa_score\n",
        "from sklearn.neural_network import MLPClassifier\n",
        "from sklearn.model_selection import cross_validate\n",
        "from sklearn.ensemble import RandomForestClassifier\n",
        "import datetime\n",
        "import warnings\n",
        "import random"
      ]
    },
    {
      "cell_type": "code",
      "execution_count": null,
      "metadata": {
        "id": "PZQyoAE-8j8_"
      },
      "outputs": [],
      "source": [
        "!pip install pyAgrum"
      ]
    },
    {
      "cell_type": "code",
      "execution_count": null,
      "metadata": {
        "id": "7gJX_IOk8zZH"
      },
      "outputs": [],
      "source": [
        "from pyAgrum.skbn import BNClassifier"
      ]
    },
    {
      "cell_type": "markdown",
      "source": [
        "# **Dataset input**"
      ],
      "metadata": {
        "id": "SQuRJ0ML6lc-"
      }
    },
    {
      "cell_type": "code",
      "source": [
        "training = pd.read_csv('/content/gdrive/MyDrive/TAI/reduced_training_set_with_micro_label.csv')\n",
        "testing = pd.read_csv('/content/gdrive/MyDrive/TAI/reduced_testing_set_with_micro_label.csv')\n",
        "X_train = training.iloc[:, 1:-1]\n",
        "y_train = training.iloc[:, -1]\n",
        "X_test = testing.iloc[:, 1:-1]\n",
        "y_test = testing.iloc[:, -1]\n",
        "test_id = testing.iloc[:, 0]"
      ],
      "metadata": {
        "id": "ixgeCCiuQp-P"
      },
      "execution_count": null,
      "outputs": []
    },
    {
      "cell_type": "code",
      "source": [
        "X_train.head(5)"
      ],
      "metadata": {
        "colab": {
          "base_uri": "https://localhost:8080/",
          "height": 317
        },
        "id": "YjOttK3fUOID",
        "outputId": "8452e220-2a49-4767-bd7e-cc8f05f0d394"
      },
      "execution_count": null,
      "outputs": [
        {
          "output_type": "execute_result",
          "data": {
            "text/plain": [
              "   original_shape_Elongation  original_firstorder_Skewness  \\\n",
              "0                   0.746498                      0.308239   \n",
              "1                   0.629092                      0.397052   \n",
              "2                   0.784976                      0.993808   \n",
              "3                   0.577087                      0.710759   \n",
              "4                   0.830552                      0.522244   \n",
              "\n",
              "   wavelet2-LHL_gldm_LargeDependenceEmphasis  \\\n",
              "0                                  15.166667   \n",
              "1                                4194.479987   \n",
              "2                                  12.800000   \n",
              "3                                2896.170217   \n",
              "4                                 738.784091   \n",
              "\n",
              "   wavelet-LHL_glrlm_LongRunEmphasis  wavelet-LHL_glrlm_RunPercentage  \\\n",
              "0                           1.483094                         1.231011   \n",
              "1                          23.678905                         0.405498   \n",
              "2                           1.911518                         1.107642   \n",
              "3                          15.066560                         0.485534   \n",
              "4                           6.039749                         0.667421   \n",
              "\n",
              "   wavelet-HHH_glrlm_RunLengthNonUniformityNormalized  \\\n",
              "0                                           0.779418    \n",
              "1                                           0.389592    \n",
              "2                                           0.822129    \n",
              "3                                           0.396913    \n",
              "4                                           0.484016    \n",
              "\n",
              "   wavelet-LHH_glrlm_ShortRunEmphasis  \\\n",
              "0                            0.905023   \n",
              "1                            0.634210   \n",
              "2                            0.934434   \n",
              "3                            0.639746   \n",
              "4                            0.689224   \n",
              "\n",
              "   wavelet-LHL_glrlm_RunLengthNonUniformityNormalized  \\\n",
              "0                                           0.762728    \n",
              "1                                           0.204996    \n",
              "2                                           0.616016    \n",
              "3                                           0.223692    \n",
              "4                                           0.284998    \n",
              "\n",
              "   log-sigma-3-0-mm-3D_gldm_LargeDependenceLowGrayLevelEmphasis  \\\n",
              "0                                          30.000000              \n",
              "1                                         703.296082              \n",
              "2                                          15.800000              \n",
              "3                                        1765.250000              \n",
              "4                                        2168.602273              \n",
              "\n",
              "   wavelet-HHH_glrlm_ShortRunEmphasis  ...  wavelet2-LLL_glcm_Contrast  \\\n",
              "0                            0.905239  ...                   21.472746   \n",
              "1                            0.635754  ...                  214.424383   \n",
              "2                            0.925524  ...                    6.343563   \n",
              "3                            0.643523  ...                   70.835116   \n",
              "4                            0.721316  ...                   52.121725   \n",
              "\n",
              "   wavelet2-LHH_glrlm_ShortRunLowGrayLevelEmphasis  \\\n",
              "0                                         0.464768   \n",
              "1                                         0.347917   \n",
              "2                                         0.306492   \n",
              "3                                         0.358830   \n",
              "4                                         0.359239   \n",
              "\n",
              "   wavelet-HHH_firstorder_90Percentile  \\\n",
              "0                             0.971789   \n",
              "1                             0.380856   \n",
              "2                             0.909483   \n",
              "3                             0.466787   \n",
              "4                             1.302800   \n",
              "\n",
              "   log-sigma-3-0-mm-3D_gldm_SmallDependenceHighGrayLevelEmphasis  \\\n",
              "0                                           0.199476               \n",
              "1                                           0.008536               \n",
              "2                                           0.128263               \n",
              "3                                           0.001531               \n",
              "4                                           0.000626               \n",
              "\n",
              "   original_firstorder_Kurtosis.1  wavelet2-HLL_firstorder_RootMeanSquared  \\\n",
              "0                        1.627599                                38.364922   \n",
              "1                        2.051976                                 3.412361   \n",
              "2                        2.777778                                16.701131   \n",
              "3                        2.603525                                 7.192055   \n",
              "4                        2.354637                                16.746710   \n",
              "\n",
              "   wavelet-LLL_glszm_LargeAreaLowGrayLevelEmphasis  \\\n",
              "0                                         9.675926   \n",
              "1                                         3.241028   \n",
              "2                                        20.000000   \n",
              "3                                       220.845578   \n",
              "4                                        17.550530   \n",
              "\n",
              "   original_shape_SphericalDisproportion  wavelet2-HHL_glcm_Idmn  Micro Label  \n",
              "0                               1.000196                0.923905            0  \n",
              "1                               1.329506                0.896269            1  \n",
              "2                               0.996453                0.928254            0  \n",
              "3                               1.402542                0.895293            0  \n",
              "4                               1.114944                0.910136            1  \n",
              "\n",
              "[5 rows x 39 columns]"
            ],
            "text/html": [
              "\n",
              "  <div id=\"df-6ea3dde9-a0af-4a4e-83d1-8d800dfdf645\">\n",
              "    <div class=\"colab-df-container\">\n",
              "      <div>\n",
              "<style scoped>\n",
              "    .dataframe tbody tr th:only-of-type {\n",
              "        vertical-align: middle;\n",
              "    }\n",
              "\n",
              "    .dataframe tbody tr th {\n",
              "        vertical-align: top;\n",
              "    }\n",
              "\n",
              "    .dataframe thead th {\n",
              "        text-align: right;\n",
              "    }\n",
              "</style>\n",
              "<table border=\"1\" class=\"dataframe\">\n",
              "  <thead>\n",
              "    <tr style=\"text-align: right;\">\n",
              "      <th></th>\n",
              "      <th>original_shape_Elongation</th>\n",
              "      <th>original_firstorder_Skewness</th>\n",
              "      <th>wavelet2-LHL_gldm_LargeDependenceEmphasis</th>\n",
              "      <th>wavelet-LHL_glrlm_LongRunEmphasis</th>\n",
              "      <th>wavelet-LHL_glrlm_RunPercentage</th>\n",
              "      <th>wavelet-HHH_glrlm_RunLengthNonUniformityNormalized</th>\n",
              "      <th>wavelet-LHH_glrlm_ShortRunEmphasis</th>\n",
              "      <th>wavelet-LHL_glrlm_RunLengthNonUniformityNormalized</th>\n",
              "      <th>log-sigma-3-0-mm-3D_gldm_LargeDependenceLowGrayLevelEmphasis</th>\n",
              "      <th>wavelet-HHH_glrlm_ShortRunEmphasis</th>\n",
              "      <th>...</th>\n",
              "      <th>wavelet2-LLL_glcm_Contrast</th>\n",
              "      <th>wavelet2-LHH_glrlm_ShortRunLowGrayLevelEmphasis</th>\n",
              "      <th>wavelet-HHH_firstorder_90Percentile</th>\n",
              "      <th>log-sigma-3-0-mm-3D_gldm_SmallDependenceHighGrayLevelEmphasis</th>\n",
              "      <th>original_firstorder_Kurtosis.1</th>\n",
              "      <th>wavelet2-HLL_firstorder_RootMeanSquared</th>\n",
              "      <th>wavelet-LLL_glszm_LargeAreaLowGrayLevelEmphasis</th>\n",
              "      <th>original_shape_SphericalDisproportion</th>\n",
              "      <th>wavelet2-HHL_glcm_Idmn</th>\n",
              "      <th>Micro Label</th>\n",
              "    </tr>\n",
              "  </thead>\n",
              "  <tbody>\n",
              "    <tr>\n",
              "      <th>0</th>\n",
              "      <td>0.746498</td>\n",
              "      <td>0.308239</td>\n",
              "      <td>15.166667</td>\n",
              "      <td>1.483094</td>\n",
              "      <td>1.231011</td>\n",
              "      <td>0.779418</td>\n",
              "      <td>0.905023</td>\n",
              "      <td>0.762728</td>\n",
              "      <td>30.000000</td>\n",
              "      <td>0.905239</td>\n",
              "      <td>...</td>\n",
              "      <td>21.472746</td>\n",
              "      <td>0.464768</td>\n",
              "      <td>0.971789</td>\n",
              "      <td>0.199476</td>\n",
              "      <td>1.627599</td>\n",
              "      <td>38.364922</td>\n",
              "      <td>9.675926</td>\n",
              "      <td>1.000196</td>\n",
              "      <td>0.923905</td>\n",
              "      <td>0</td>\n",
              "    </tr>\n",
              "    <tr>\n",
              "      <th>1</th>\n",
              "      <td>0.629092</td>\n",
              "      <td>0.397052</td>\n",
              "      <td>4194.479987</td>\n",
              "      <td>23.678905</td>\n",
              "      <td>0.405498</td>\n",
              "      <td>0.389592</td>\n",
              "      <td>0.634210</td>\n",
              "      <td>0.204996</td>\n",
              "      <td>703.296082</td>\n",
              "      <td>0.635754</td>\n",
              "      <td>...</td>\n",
              "      <td>214.424383</td>\n",
              "      <td>0.347917</td>\n",
              "      <td>0.380856</td>\n",
              "      <td>0.008536</td>\n",
              "      <td>2.051976</td>\n",
              "      <td>3.412361</td>\n",
              "      <td>3.241028</td>\n",
              "      <td>1.329506</td>\n",
              "      <td>0.896269</td>\n",
              "      <td>1</td>\n",
              "    </tr>\n",
              "    <tr>\n",
              "      <th>2</th>\n",
              "      <td>0.784976</td>\n",
              "      <td>0.993808</td>\n",
              "      <td>12.800000</td>\n",
              "      <td>1.911518</td>\n",
              "      <td>1.107642</td>\n",
              "      <td>0.822129</td>\n",
              "      <td>0.934434</td>\n",
              "      <td>0.616016</td>\n",
              "      <td>15.800000</td>\n",
              "      <td>0.925524</td>\n",
              "      <td>...</td>\n",
              "      <td>6.343563</td>\n",
              "      <td>0.306492</td>\n",
              "      <td>0.909483</td>\n",
              "      <td>0.128263</td>\n",
              "      <td>2.777778</td>\n",
              "      <td>16.701131</td>\n",
              "      <td>20.000000</td>\n",
              "      <td>0.996453</td>\n",
              "      <td>0.928254</td>\n",
              "      <td>0</td>\n",
              "    </tr>\n",
              "    <tr>\n",
              "      <th>3</th>\n",
              "      <td>0.577087</td>\n",
              "      <td>0.710759</td>\n",
              "      <td>2896.170217</td>\n",
              "      <td>15.066560</td>\n",
              "      <td>0.485534</td>\n",
              "      <td>0.396913</td>\n",
              "      <td>0.639746</td>\n",
              "      <td>0.223692</td>\n",
              "      <td>1765.250000</td>\n",
              "      <td>0.643523</td>\n",
              "      <td>...</td>\n",
              "      <td>70.835116</td>\n",
              "      <td>0.358830</td>\n",
              "      <td>0.466787</td>\n",
              "      <td>0.001531</td>\n",
              "      <td>2.603525</td>\n",
              "      <td>7.192055</td>\n",
              "      <td>220.845578</td>\n",
              "      <td>1.402542</td>\n",
              "      <td>0.895293</td>\n",
              "      <td>0</td>\n",
              "    </tr>\n",
              "    <tr>\n",
              "      <th>4</th>\n",
              "      <td>0.830552</td>\n",
              "      <td>0.522244</td>\n",
              "      <td>738.784091</td>\n",
              "      <td>6.039749</td>\n",
              "      <td>0.667421</td>\n",
              "      <td>0.484016</td>\n",
              "      <td>0.689224</td>\n",
              "      <td>0.284998</td>\n",
              "      <td>2168.602273</td>\n",
              "      <td>0.721316</td>\n",
              "      <td>...</td>\n",
              "      <td>52.121725</td>\n",
              "      <td>0.359239</td>\n",
              "      <td>1.302800</td>\n",
              "      <td>0.000626</td>\n",
              "      <td>2.354637</td>\n",
              "      <td>16.746710</td>\n",
              "      <td>17.550530</td>\n",
              "      <td>1.114944</td>\n",
              "      <td>0.910136</td>\n",
              "      <td>1</td>\n",
              "    </tr>\n",
              "  </tbody>\n",
              "</table>\n",
              "<p>5 rows × 39 columns</p>\n",
              "</div>\n",
              "      <button class=\"colab-df-convert\" onclick=\"convertToInteractive('df-6ea3dde9-a0af-4a4e-83d1-8d800dfdf645')\"\n",
              "              title=\"Convert this dataframe to an interactive table.\"\n",
              "              style=\"display:none;\">\n",
              "        \n",
              "  <svg xmlns=\"http://www.w3.org/2000/svg\" height=\"24px\"viewBox=\"0 0 24 24\"\n",
              "       width=\"24px\">\n",
              "    <path d=\"M0 0h24v24H0V0z\" fill=\"none\"/>\n",
              "    <path d=\"M18.56 5.44l.94 2.06.94-2.06 2.06-.94-2.06-.94-.94-2.06-.94 2.06-2.06.94zm-11 1L8.5 8.5l.94-2.06 2.06-.94-2.06-.94L8.5 2.5l-.94 2.06-2.06.94zm10 10l.94 2.06.94-2.06 2.06-.94-2.06-.94-.94-2.06-.94 2.06-2.06.94z\"/><path d=\"M17.41 7.96l-1.37-1.37c-.4-.4-.92-.59-1.43-.59-.52 0-1.04.2-1.43.59L10.3 9.45l-7.72 7.72c-.78.78-.78 2.05 0 2.83L4 21.41c.39.39.9.59 1.41.59.51 0 1.02-.2 1.41-.59l7.78-7.78 2.81-2.81c.8-.78.8-2.07 0-2.86zM5.41 20L4 18.59l7.72-7.72 1.47 1.35L5.41 20z\"/>\n",
              "  </svg>\n",
              "      </button>\n",
              "      \n",
              "  <style>\n",
              "    .colab-df-container {\n",
              "      display:flex;\n",
              "      flex-wrap:wrap;\n",
              "      gap: 12px;\n",
              "    }\n",
              "\n",
              "    .colab-df-convert {\n",
              "      background-color: #E8F0FE;\n",
              "      border: none;\n",
              "      border-radius: 50%;\n",
              "      cursor: pointer;\n",
              "      display: none;\n",
              "      fill: #1967D2;\n",
              "      height: 32px;\n",
              "      padding: 0 0 0 0;\n",
              "      width: 32px;\n",
              "    }\n",
              "\n",
              "    .colab-df-convert:hover {\n",
              "      background-color: #E2EBFA;\n",
              "      box-shadow: 0px 1px 2px rgba(60, 64, 67, 0.3), 0px 1px 3px 1px rgba(60, 64, 67, 0.15);\n",
              "      fill: #174EA6;\n",
              "    }\n",
              "\n",
              "    [theme=dark] .colab-df-convert {\n",
              "      background-color: #3B4455;\n",
              "      fill: #D2E3FC;\n",
              "    }\n",
              "\n",
              "    [theme=dark] .colab-df-convert:hover {\n",
              "      background-color: #434B5C;\n",
              "      box-shadow: 0px 1px 3px 1px rgba(0, 0, 0, 0.15);\n",
              "      filter: drop-shadow(0px 1px 2px rgba(0, 0, 0, 0.3));\n",
              "      fill: #FFFFFF;\n",
              "    }\n",
              "  </style>\n",
              "\n",
              "      <script>\n",
              "        const buttonEl =\n",
              "          document.querySelector('#df-6ea3dde9-a0af-4a4e-83d1-8d800dfdf645 button.colab-df-convert');\n",
              "        buttonEl.style.display =\n",
              "          google.colab.kernel.accessAllowed ? 'block' : 'none';\n",
              "\n",
              "        async function convertToInteractive(key) {\n",
              "          const element = document.querySelector('#df-6ea3dde9-a0af-4a4e-83d1-8d800dfdf645');\n",
              "          const dataTable =\n",
              "            await google.colab.kernel.invokeFunction('convertToInteractive',\n",
              "                                                     [key], {});\n",
              "          if (!dataTable) return;\n",
              "\n",
              "          const docLinkHtml = 'Like what you see? Visit the ' +\n",
              "            '<a target=\"_blank\" href=https://colab.research.google.com/notebooks/data_table.ipynb>data table notebook</a>'\n",
              "            + ' to learn more about interactive tables.';\n",
              "          element.innerHTML = '';\n",
              "          dataTable['output_type'] = 'display_data';\n",
              "          await google.colab.output.renderOutput(dataTable, element);\n",
              "          const docLink = document.createElement('div');\n",
              "          docLink.innerHTML = docLinkHtml;\n",
              "          element.appendChild(docLink);\n",
              "        }\n",
              "      </script>\n",
              "    </div>\n",
              "  </div>\n",
              "  "
            ]
          },
          "metadata": {},
          "execution_count": 36
        }
      ]
    },
    {
      "cell_type": "code",
      "source": [
        "print(X_train.shape)\n",
        "print(X_test.shape)"
      ],
      "metadata": {
        "colab": {
          "base_uri": "https://localhost:8080/"
        },
        "id": "A-tsXgBRUjF-",
        "outputId": "3fc2f538-6d5e-4df1-cf0f-2f0e100181d1"
      },
      "execution_count": null,
      "outputs": [
        {
          "output_type": "stream",
          "name": "stdout",
          "text": [
            "(2434, 39)\n",
            "(1128, 39)\n"
          ]
        }
      ]
    },
    {
      "cell_type": "markdown",
      "source": [
        "# **Algorithm construction**\n",
        "Group predictions per micro as the final labels of patients "
      ],
      "metadata": {
        "id": "4IOpXAqJ6wqK"
      }
    },
    {
      "cell_type": "code",
      "source": [
        "# probs (ndarray): the predicted probilities of micro records being classified as positive labels\n",
        "# return predicted labels, real labels, and predicted probilities of patients\n",
        "def groupResult(probs):\n",
        "  # df: corresponding patient id | probility of being classified as 1 | the real label\n",
        "  result = pd.DataFrame({\"Patient ID\": test_id.tolist(), \"Probability\": probs.tolist(), \"Label\": y_test.tolist()})\n",
        "  result = result.sort_values(by='Patient ID')\n",
        "  # get the id set\n",
        "  ids = set(test_id.tolist())\n",
        "\n",
        "  real_labels = []\n",
        "  predicted_labels = []\n",
        "  # calculated mean probility per patient\n",
        "  cal_probs = []\n",
        "\n",
        "  for i in ids:\n",
        "    # get the result records by patient id\n",
        "    selected = result[result[\"Patient ID\"] == i]\n",
        "    # calculate the mean probility of being classified as positive label\n",
        "    mean_prob = np.mean(selected[\"Probability\"].tolist())\n",
        "    if mean_prob > 0.5:\n",
        "      predicted_label = 1\n",
        "    else:\n",
        "      predicted_label = 0\n",
        "  \n",
        "    predicted_labels.append(predicted_label)\n",
        "    real_labels.append(selected['Label'].tolist()[0])\n",
        "    cal_probs.append(mean_prob)\n",
        "\n",
        "  # result_per_patient = pd.DataFrame({\"Patient ID\": list(ids), \"Predicted Label\": predicted_labels, \"Real Label\": real_labels})\n",
        "  # return result_per_patient\n",
        "  return predicted_labels, real_labels, cal_probs\n"
      ],
      "metadata": {
        "id": "l9ZNL_VngxxX"
      },
      "execution_count": null,
      "outputs": []
    },
    {
      "cell_type": "markdown",
      "source": [
        "# **Decision Tree**"
      ],
      "metadata": {
        "id": "YzgguqLadR5z"
      }
    },
    {
      "cell_type": "code",
      "source": [
        "random.seed(42)\n",
        "\n",
        "parameters = {'max_depth':[6, 8], 'max_features':[4,6,8],'class_weight':[None,'balanced',{0:2,1:1,2:2}]}\n",
        "Dtree = DecisionTreeClassifier()\n",
        "# GridSearchCV searching for the best parameters\n",
        "dt_grid = GridSearchCV(Dtree, parameters, verbose=1, n_jobs=1,cv=5,scoring='f1_micro')\n",
        "dt_grid.fit(X_train, y_train)\n",
        "print(dt_grid.best_params_)\n",
        "\n",
        "dt_start_time = datetime.datetime.now()\n",
        "# model training\n",
        "Dtree = DecisionTreeClassifier(**dt_grid.best_params_, random_state=42)\n",
        "Dtree.fit(X_train,y_train)\n",
        "\n",
        "# the probility of being 1\n",
        "dt_probilities = Dtree.predict_proba(X_test)[:, 1]\n",
        "# get the processed results of patients\n",
        "dt_predic_label, dt_real_label, dt_probs = groupResult(dt_probilities)\n",
        "# confusion matrix construction\n",
        "confusion = confusion_matrix(dt_real_label, dt_predic_label)\n",
        "TP = confusion[1, 1]\n",
        "TN = confusion[0, 0]\n",
        "FP = confusion[0, 1]\n",
        "FN = confusion[1, 0]\n",
        "\n",
        "dt_AUC = roc_auc_score(dt_real_label, dt_probs)\n",
        "dt_ACC = accuracy_score(dt_real_label, dt_predic_label)\n",
        "dt_Sen = TP / float(TP+FN)\n",
        "dt_Spe = TN / float(TN+FP)\n",
        "dt_F1 = f1_score(dt_real_label, dt_predic_label)\n",
        "\n",
        "# plot roc curve\n",
        "dt_fpr, dt_tpr, dt_thresholds = roc_curve(dt_real_label, dt_probs, pos_label=None, sample_weight=None, drop_intermediate=True)\n",
        "dt_auc = roc_auc_score(dt_real_label, dt_probs)\n",
        "\n",
        "plt.figure(figsize=(6, 4))\n",
        "plt.plot(dt_fpr, dt_tpr, label='dt: AUC={0:0.2f}'.format(dt_auc))\n",
        "plt.plot(dt_fpr, dt_tpr)\n",
        "plt.title(\"ROC Curve, DT performance\")\n",
        "plt.xlabel('1-Specificity', fontsize=15)\n",
        "plt.ylabel('Sensitivity', fontsize=15)\n",
        "plt.axis('square')\n",
        "plt.xticks(fontsize=15)\n",
        "plt.yticks(fontsize=15)\n",
        "plt.plot([0,1], [0,1], ls = '-', c = 'lightgrey')# 'r--'\n",
        "plt.rcParams.update({'font.size': 8})\n",
        "plt.legend(loc=\"lower right\", edgecolor='black')\n",
        "plt.show()\n",
        "plt.savefig(\"/content/gdrive/MyDrive/TAI/dt_roc_task2.jpg\")\n",
        "\n",
        "print(\"AUC: %s\" % (dt_AUC))\n",
        "print(\"Accuracy: %s\" % (dt_ACC))\n",
        "print(\"Sensitivity: %s\" % (dt_Sen))\n",
        "print(\"Specificity: %s\" % (dt_Spe))\n",
        "print(\"F1 Score: %s\" % (dt_F1))\n",
        "\n",
        "dt_end_time = datetime.datetime.now()\n",
        "dt_running_time = (dt_end_time - dt_start_time).total_seconds()\n",
        "print('running time: %s'%(dt_running_time))\n"
      ],
      "metadata": {
        "colab": {
          "base_uri": "https://localhost:8080/",
          "height": 574
        },
        "id": "BE6fCAQXgqOj",
        "outputId": "04aff6b6-a046-4852-823d-82e53daf4e23"
      },
      "execution_count": null,
      "outputs": [
        {
          "output_type": "stream",
          "name": "stdout",
          "text": [
            "Fitting 5 folds for each of 18 candidates, totalling 90 fits\n",
            "{'class_weight': {0: 2, 1: 1, 2: 2}, 'max_depth': 8, 'max_features': 8}\n"
          ]
        },
        {
          "output_type": "display_data",
          "data": {
            "text/plain": [
              "<Figure size 600x400 with 1 Axes>"
            ],
            "image/png": "[encoded data removed]"
          },
          "metadata": {}
        },
        {
          "output_type": "stream",
          "name": "stdout",
          "text": [
            "AUC: 0.8160173160173161\n",
            "Accuracy: 0.78125\n",
            "Sensitivity: 0.8181818181818182\n",
            "Specificity: 0.7619047619047619\n",
            "F1 Score: 0.7200000000000001\n",
            "running time: 0.708484\n"
          ]
        },
        {
          "output_type": "display_data",
          "data": {
            "text/plain": [
              "<Figure size 640x480 with 0 Axes>"
            ]
          },
          "metadata": {}
        }
      ]
    },
    {
      "cell_type": "markdown",
      "source": [
        "# **Multi-layer Perceptron**"
      ],
      "metadata": {
        "id": "RaeHOOETzpTC"
      }
    },
    {
      "cell_type": "code",
      "source": [
        "parameters = {'learning_rate':['constant', 'invscaling'], 'alpha':[0.001, 0.0001, 0.00001], 'hidden_layer_sizes':np.arange(50, 150, 25)}\n",
        "\n",
        "mlp = MLPClassifier()\n",
        "mlp_grid = GridSearchCV(mlp, parameters, verbose=1, n_jobs=1,cv=5,scoring='f1_micro')\n",
        "mlp_grid.fit(X_train, y_train)\n",
        "print(mlp_grid.best_params_)\n",
        "\n",
        "mlp_start_time = datetime.datetime.now()\n",
        "\n",
        "mlp = MLPClassifier(**mlp_grid.best_params_, random_state=42)\n",
        "mlp.fit(X_train,y_train)\n",
        "# mlp_predictions = mlp.predict(X_test)\n",
        "mlp_probilities = mlp.predict_proba(X_test)[:, 1]\n",
        "\n",
        "mlp_predic_label, mlp_real_label, mlp_probs = groupResult(mlp_probilities)\n",
        "confusion = confusion_matrix(mlp_real_label, mlp_predic_label)\n",
        "TP = confusion[1, 1]\n",
        "TN = confusion[0, 0]\n",
        "FP = confusion[0, 1]\n",
        "FN = confusion[1, 0]\n",
        "\n",
        "mlp_AUC = roc_auc_score(mlp_real_label, mlp_probs)\n",
        "mlp_ACC = accuracy_score(mlp_real_label, mlp_predic_label)\n",
        "mlp_Sen = TP / float(TP+FN)\n",
        "mlp_Spe = TN / float(TN+FP)\n",
        "mlp_F1 = f1_score(mlp_real_label, mlp_predic_label)\n",
        "\n",
        "\n",
        "mlp_fpr, mlp_tpr, mlp_thresholds = roc_curve(mlp_real_label, mlp_probs, pos_label=None, sample_weight=None, drop_intermediate=True)\n",
        "mlp_auc = roc_auc_score(mlp_real_label, mlp_probs)\n",
        "\n",
        "plt.figure(figsize=(6, 4))\n",
        "plt.plot(mlp_fpr, mlp_tpr, label='mlp: AUC={0:0.2f}'.format(mlp_auc))\n",
        "plt.plot(mlp_fpr, mlp_tpr)\n",
        "plt.title(\"ROC Curve, MLP performance\")\n",
        "plt.xlabel('1-Specificity', fontsize=15)\n",
        "plt.ylabel('Sensitivity', fontsize=15)\n",
        "plt.axis('square')\n",
        "plt.xticks(fontsize=15)\n",
        "plt.yticks(fontsize=15)\n",
        "plt.plot([0,1], [0,1], ls = '-', c = 'lightgrey')# 'r--'\n",
        "plt.rcParams.update({'font.size': 8})\n",
        "plt.legend(loc=\"lower right\", edgecolor='black')\n",
        "plt.show()\n",
        "plt.savefig(\"/content/gdrive/MyDrive/TAI/mlp_roc_task2.jpg\")\n",
        "\n",
        "print(\"AUC: %s\" % (mlp_AUC))\n",
        "print(\"Accuracy: %s\" % (mlp_ACC))\n",
        "print(\"Sensitivity: %s\" % (mlp_Sen))\n",
        "print(\"Specificity: %s\" % (mlp_Spe))\n",
        "print(\"F1 Score: %s\" % (mlp_F1))\n",
        "\n",
        "mlp_end_time = datetime.datetime.now()\n",
        "mlp_running_time = (mlp_end_time - mlp_start_time).total_seconds()\n",
        "print('running time: %s'%(mlp_running_time))"
      ],
      "metadata": {
        "colab": {
          "base_uri": "https://localhost:8080/",
          "height": 574
        },
        "id": "JYZa4Gz9zopw",
        "outputId": "1cd890f3-3dc0-41fb-dfde-67dc25457325"
      },
      "execution_count": null,
      "outputs": [
        {
          "output_type": "stream",
          "name": "stdout",
          "text": [
            "Fitting 5 folds for each of 24 candidates, totalling 120 fits\n",
            "{'alpha': 0.0001, 'hidden_layer_sizes': 50, 'learning_rate': 'invscaling'}\n"
          ]
        },
        {
          "output_type": "display_data",
          "data": {
            "text/plain": [
              "<Figure size 600x400 with 1 Axes>"
            ],
            "image/png": "[encoded data removed]"
          },
          "metadata": {}
        },
        {
          "output_type": "stream",
          "name": "stdout",
          "text": [
            "AUC: 0.8095238095238095\n",
            "Accuracy: 0.71875\n",
            "Sensitivity: 0.8181818181818182\n",
            "Specificity: 0.6666666666666666\n",
            "F1 Score: 0.6666666666666666\n",
            "running time: 3.629017\n"
          ]
        },
        {
          "output_type": "display_data",
          "data": {
            "text/plain": [
              "<Figure size 640x480 with 0 Axes>"
            ]
          },
          "metadata": {}
        }
      ]
    },
    {
      "cell_type": "markdown",
      "source": [
        "# **Bayesian Network**"
      ],
      "metadata": {
        "id": "GQqHtNx_0_Qm"
      }
    },
    {
      "cell_type": "code",
      "source": [
        "import warnings\n",
        "warnings.filterwarnings('ignore')\n",
        "\n",
        "parameters = {'learningMethod':['GHC', 'MIIC', 'TAN']\n",
        "              ,'prior':['Smoothing', 'BDeu', None]\n",
        "              ,'scoringType':['AIC', 'BIC', 'Log2']}\n",
        "\n",
        "bn = BNClassifier()\n",
        "bn_grid = GridSearchCV(bn, parameters, verbose=1, n_jobs=1,cv=5,scoring='f1_micro')\n",
        "bn_grid.fit(X_train, y_train)\n",
        "print(bn_grid.best_params_)\n",
        "\n",
        "bn_start_time = datetime.datetime.now()\n",
        "\n",
        "bn = BNClassifier(**bn_grid.best_params_)\n",
        "bn.fit(X_train,y_train)\n",
        "# bn_predictions = bn.predict(X_test)\n",
        "bn_probilities = bn.predict_proba(X_test)[:, 1]\n",
        "\n",
        "bn_predic_label, bn_real_label, bn_probs = groupResult(bn_probilities)\n",
        "confusion = confusion_matrix(bn_real_label, bn_predic_label)\n",
        "TP = confusion[1, 1]\n",
        "TN = confusion[0, 0]\n",
        "FP = confusion[0, 1]\n",
        "FN = confusion[1, 0]\n",
        "\n",
        "bn_AUC = roc_auc_score(bn_real_label, bn_probs)\n",
        "bn_ACC = accuracy_score(bn_real_label, bn_predic_label)\n",
        "bn_Sen = TP / float(TP+FN)\n",
        "bn_Spe = TN / float(TN+FP)\n",
        "bn_F1 = f1_score(bn_real_label, bn_predic_label)\n",
        "\n",
        "\n",
        "bn_fpr, bn_tpr, bn_thresholds = roc_curve(bn_real_label, bn_probs, pos_label=None, sample_weight=None, drop_intermediate=True)\n",
        "bn_auc = roc_auc_score(bn_real_label, bn_probs)\n",
        "\n",
        "plt.figure(figsize=(6, 4))\n",
        "plt.plot(bn_fpr, bn_tpr, label='bn: AUC={0:0.2f}'.format(bn_auc))\n",
        "plt.plot(bn_fpr, bn_tpr)\n",
        "plt.title(\"ROC Curve, BN performance\")\n",
        "plt.xlabel('1-Specificity', fontsize=15)\n",
        "plt.ylabel('Sensitivity', fontsize=15)\n",
        "plt.axis('square')\n",
        "plt.xticks(fontsize=15)\n",
        "plt.yticks(fontsize=15)\n",
        "plt.plot([0,1], [0,1], ls = '-', c = 'lightgrey')# 'r--'\n",
        "plt.rcParams.update({'font.size': 8})\n",
        "plt.legend(loc=\"lower right\", edgecolor='black')\n",
        "plt.show()\n",
        "plt.savefig(\"/content/gdrive/MyDrive/TAI/bn_roc_task2.jpg\")\n",
        "\n",
        "print(\"AUC: %s\" % (bn_AUC))\n",
        "print(\"Accuracy: %s\" % (bn_ACC))\n",
        "print(\"Sensitivity: %s\" % (bn_Sen))\n",
        "print(\"Specificity: %s\" % (bn_Spe))\n",
        "print(\"F1 Score: %s\" % (bn_F1))\n",
        "\n",
        "\n",
        "bn_end_time = datetime.datetime.now()\n",
        "bn_running_time = (bn_end_time - bn_start_time).total_seconds()\n",
        "print('running time: %s'%(bn_running_time))"
      ],
      "metadata": {
        "colab": {
          "base_uri": "https://localhost:8080/",
          "height": 574
        },
        "id": "_E2ONJP51B1W",
        "outputId": "4b62d559-5287-4c3c-ef16-772100740df9"
      },
      "execution_count": null,
      "outputs": [
        {
          "output_type": "stream",
          "name": "stdout",
          "text": [
            "Fitting 5 folds for each of 27 candidates, totalling 135 fits\n",
            "{'learningMethod': 'GHC', 'prior': 'Smoothing', 'scoringType': 'AIC'}\n"
          ]
        },
        {
          "output_type": "display_data",
          "data": {
            "text/plain": [
              "<Figure size 600x400 with 1 Axes>"
            ],
            "image/png": "[encoded data removed]"
          },
          "metadata": {}
        },
        {
          "output_type": "stream",
          "name": "stdout",
          "text": [
            "AUC: 0.8225108225108225\n",
            "Accuracy: 0.78125\n",
            "Sensitivity: 0.8181818181818182\n",
            "Specificity: 0.7619047619047619\n",
            "F1 Score: 0.7200000000000001\n",
            "running time: 1.66502\n"
          ]
        },
        {
          "output_type": "display_data",
          "data": {
            "text/plain": [
              "<Figure size 640x480 with 0 Axes>"
            ]
          },
          "metadata": {}
        }
      ]
    },
    {
      "cell_type": "markdown",
      "source": [
        "# **Random Forest**"
      ],
      "metadata": {
        "id": "cgkdnLbT1sPG"
      }
    },
    {
      "cell_type": "code",
      "source": [
        "parameters = { \n",
        "    'n_estimators': [200, 400, 500],\n",
        "    'max_features': ['sqrt', 'log2'],\n",
        "    'max_depth' : [6, 8, 10]}\n",
        "rf = RandomForestClassifier()\n",
        "rf_grid = GridSearchCV(rf, parameters, verbose=1, n_jobs=1,cv=5,scoring='f1_micro')\n",
        "rf_grid.fit(X_train, y_train)\n",
        "print(rf_grid.best_params_)\n",
        "\n",
        "rf_start_time = datetime.datetime.now()\n",
        "\n",
        "rf = RandomForestClassifier(**rf_grid.best_params_, random_state=42)\n",
        "rf.fit(X_train,y_train)\n",
        "# rf_predictions = rf.predict(X_test)\n",
        "rf_probilities = rf.predict_proba(X_test)[:, 1]\n",
        "\n",
        "rf_predic_label, rf_real_label, rf_probs = groupResult(rf_probilities)\n",
        "confusion = confusion_matrix(rf_real_label, rf_predic_label)\n",
        "TP = confusion[1, 1]\n",
        "TN = confusion[0, 0]\n",
        "FP = confusion[0, 1]\n",
        "FN = confusion[1, 0]\n",
        "\n",
        "rf_AUC = roc_auc_score(rf_real_label, rf_probs)\n",
        "rf_ACC = accuracy_score(rf_real_label, rf_predic_label)\n",
        "rf_Sen = TP / float(TP+FN)\n",
        "rf_Spe = TN / float(TN+FP)\n",
        "rf_F1 = f1_score(rf_real_label, rf_predic_label)\n",
        "\n",
        "rf_fpr, rf_tpr, rf_thresholds = roc_curve(rf_real_label, rf_probs, pos_label=None, sample_weight=None, drop_intermediate=True)\n",
        "rf_auc = roc_auc_score(rf_real_label, rf_probs)\n",
        "\n",
        "plt.figure(figsize=(6, 4))\n",
        "plt.plot(rf_fpr, rf_tpr, label='rf: AUC={0:0.2f}'.format(rf_auc))\n",
        "plt.plot(rf_fpr, rf_tpr)\n",
        "plt.title(\"ROC Curve, RF performance\")\n",
        "plt.xlabel('1-Specificity', fontsize=15)\n",
        "plt.ylabel('Sensitivity', fontsize=15)\n",
        "plt.axis('square')\n",
        "plt.xticks(fontsize=15)\n",
        "plt.yticks(fontsize=15)\n",
        "plt.plot([0,1], [0,1], ls = '-', c = 'lightgrey')# 'r--'\n",
        "plt.rcParams.update({'font.size': 8})\n",
        "plt.legend(loc=\"lower right\", edgecolor='black')\n",
        "plt.show()\n",
        "plt.savefig(\"/content/gdrive/MyDrive/TAI/rf_roc_task2.jpg\")\n",
        "\n",
        "print(\"AUC: %s\" % (rf_AUC))\n",
        "print(\"Accuracy: %s\" % (rf_ACC))\n",
        "print(\"Sensitivity: %s\" % (rf_Sen))\n",
        "print(\"Specificity: %s\" % (rf_Spe))\n",
        "print(\"F1 Score: %s\" % (rf_F1))\n",
        "\n",
        "\n",
        "rf_end_time = datetime.datetime.now()\n",
        "rf_running_time = (rf_end_time - rf_start_time).total_seconds()\n",
        "print('running time: %s'%(rf_running_time))"
      ],
      "metadata": {
        "colab": {
          "base_uri": "https://localhost:8080/",
          "height": 574
        },
        "id": "ktoFegpz1vR2",
        "outputId": "c08b1b38-e38c-490e-f396-020cd58bbc0f"
      },
      "execution_count": null,
      "outputs": [
        {
          "output_type": "stream",
          "name": "stdout",
          "text": [
            "Fitting 5 folds for each of 18 candidates, totalling 90 fits\n",
            "{'max_depth': 6, 'max_features': 'sqrt', 'n_estimators': 200}\n"
          ]
        },
        {
          "output_type": "display_data",
          "data": {
            "text/plain": [
              "<Figure size 600x400 with 1 Axes>"
            ],
            "image/png": "[encoded data removed]"
          },
          "metadata": {}
        },
        {
          "output_type": "stream",
          "name": "stdout",
          "text": [
            "AUC: 0.8354978354978355\n",
            "Accuracy: 0.78125\n",
            "Sensitivity: 0.8181818181818182\n",
            "Specificity: 0.7619047619047619\n",
            "F1 Score: 0.7200000000000001\n",
            "running time: 2.869993\n"
          ]
        },
        {
          "output_type": "display_data",
          "data": {
            "text/plain": [
              "<Figure size 640x480 with 0 Axes>"
            ]
          },
          "metadata": {}
        }
      ]
    },
    {
      "cell_type": "markdown",
      "source": [
        "Plot all roc curves"
      ],
      "metadata": {
        "id": "NwAzcQgN9cYa"
      }
    },
    {
      "cell_type": "code",
      "source": [
        "plt.figure(figsize=(6, 4))\n",
        "plt.plot(dt_fpr, dt_tpr, label='DT: AUC={0:0.2f}'.format(dt_AUC))\n",
        "plt.plot(mlp_fpr, mlp_tpr, label='MLP: AUC={0:0.2f}'.format(mlp_AUC))\n",
        "plt.plot(bn_fpr, bn_tpr, label='BN: AUC={0:0.2f}'.format(bn_AUC))\n",
        "plt.plot(rf_fpr, rf_tpr, label='RF: AUC={0:0.2f}'.format(rf_AUC))\n",
        "plt.title(\"ROC Curve, all performance\")\n",
        "plt.xlabel('1-Specificity', fontsize=12)\n",
        "plt.ylabel('Sensitivity', fontsize=12)\n",
        "plt.axis('square')\n",
        "plt.xticks(fontsize=12)\n",
        "plt.yticks(fontsize=12)\n",
        "plt.plot([0,1], [0,1], ls = '-', c = 'lightgrey')# 'r--'\n",
        "#plt.grid(True)\n",
        "plt.rcParams.update({'font.size': 8})\n",
        "plt.legend(loc=\"best\", edgecolor='black')\n",
        "plt.show()\n",
        "plt.savefig(\"/content/gdrive/MyDrive/TAI/all_roc_task2.jpg\")"
      ],
      "metadata": {
        "colab": {
          "base_uri": "https://localhost:8080/",
          "height": 431
        },
        "id": "s-3tuwrS2TUV",
        "outputId": "32d14102-e520-47fe-ded9-86bf364fc413"
      },
      "execution_count": null,
      "outputs": [
        {
          "output_type": "display_data",
          "data": {
            "text/plain": [
              "<Figure size 600x400 with 1 Axes>"
            ],
            "image/png": "[encoded data removed]"
          },
          "metadata": {}
        },
        {
          "output_type": "display_data",
          "data": {
            "text/plain": [
              "<Figure size 640x480 with 0 Axes>"
            ]
          },
          "metadata": {}
        }
      ]
    },
    {
      "cell_type": "markdown",
      "source": [
        "map results to a table"
      ],
      "metadata": {
        "id": "EjW0Va0j9iuU"
      }
    },
    {
      "cell_type": "code",
      "source": [
        "stat = [\"AUC\", \"Accuracy\", \"Sensitivity\", \"Specificity\", \"F1 Score\", \"Running time (second)\"]\n",
        "\n",
        "dt_result = [dt_AUC, dt_ACC, dt_Sen, dt_Spe, dt_F1, dt_running_time]\n",
        "mlp_result = [mlp_AUC, mlp_ACC, mlp_Sen, mlp_Spe, mlp_F1, mlp_running_time]\n",
        "bn_result = [bn_AUC, bn_ACC, bn_Sen, bn_Spe, bn_F1, bn_running_time]\n",
        "rf_result = [rf_AUC, rf_ACC, rf_Sen, rf_Spe, rf_F1, rf_running_time]\n",
        "\n",
        "for i in range(len(dt_result)):\n",
        "  dt_result[i] = round(dt_result[i], 2)\n",
        "  mlp_result[i] = round(mlp_result[i], 2)\n",
        "  bn_result[i] = round(bn_result[i], 2)\n",
        "  rf_result[i] = round(rf_result[i], 2)\n",
        "\n",
        "result_df = pd.DataFrame({\" \":stat, \"DT\": dt_result, \"MLP\": mlp_result, \"BN\": bn_result, \"RF\": rf_result})\n",
        "\n",
        "result_df.to_csv('/content/gdrive/MyDrive/TAI/result_task2.csv', index=False)\n",
        "\n",
        "result_df"
      ],
      "metadata": {
        "id": "OW82D2FX5P_W",
        "colab": {
          "base_uri": "https://localhost:8080/"
        },
        "outputId": "0b1156b4-59cc-4e9a-bf17-6e5a3b530658"
      },
      "execution_count": null,
      "outputs": [
        {
          "output_type": "execute_result",
          "data": {
            "text/plain": [
              "                            DT   MLP    BN    RF\n",
              "0                    AUC  0.82  0.81  0.82  0.84\n",
              "1               Accuracy  0.78  0.72  0.78  0.78\n",
              "2            Sensitivity  0.82  0.82  0.82  0.82\n",
              "3            Specificity  0.76  0.67  0.76  0.76\n",
              "4               F1 Score  0.72  0.67  0.72  0.72\n",
              "5  Running time (second)  0.71  3.63  1.67  2.87"
            ],
            "text/html": [
              "\n",
              "  <div id=\"df-30dc13d6-bc04-4c61-81e1-529f90f74a7a\">\n",
              "    <div class=\"colab-df-container\">\n",
              "      <div>\n",
              "<style scoped>\n",
              "    .dataframe tbody tr th:only-of-type {\n",
              "        vertical-align: middle;\n",
              "    }\n",
              "\n",
              "    .dataframe tbody tr th {\n",
              "        vertical-align: top;\n",
              "    }\n",
              "\n",
              "    .dataframe thead th {\n",
              "        text-align: right;\n",
              "    }\n",
              "</style>\n",
              "<table border=\"1\" class=\"dataframe\">\n",
              "  <thead>\n",
              "    <tr style=\"text-align: right;\">\n",
              "      <th></th>\n",
              "      <th></th>\n",
              "      <th>DT</th>\n",
              "      <th>MLP</th>\n",
              "      <th>BN</th>\n",
              "      <th>RF</th>\n",
              "    </tr>\n",
              "  </thead>\n",
              "  <tbody>\n",
              "    <tr>\n",
              "      <th>0</th>\n",
              "      <td>AUC</td>\n",
              "      <td>0.82</td>\n",
              "      <td>0.81</td>\n",
              "      <td>0.82</td>\n",
              "      <td>0.84</td>\n",
              "    </tr>\n",
              "    <tr>\n",
              "      <th>1</th>\n",
              "      <td>Accuracy</td>\n",
              "      <td>0.78</td>\n",
              "      <td>0.72</td>\n",
              "      <td>0.78</td>\n",
              "      <td>0.78</td>\n",
              "    </tr>\n",
              "    <tr>\n",
              "      <th>2</th>\n",
              "      <td>Sensitivity</td>\n",
              "      <td>0.82</td>\n",
              "      <td>0.82</td>\n",
              "      <td>0.82</td>\n",
              "      <td>0.82</td>\n",
              "    </tr>\n",
              "    <tr>\n",
              "      <th>3</th>\n",
              "      <td>Specificity</td>\n",
              "      <td>0.76</td>\n",
              "      <td>0.67</td>\n",
              "      <td>0.76</td>\n",
              "      <td>0.76</td>\n",
              "    </tr>\n",
              "    <tr>\n",
              "      <th>4</th>\n",
              "      <td>F1 Score</td>\n",
              "      <td>0.72</td>\n",
              "      <td>0.67</td>\n",
              "      <td>0.72</td>\n",
              "      <td>0.72</td>\n",
              "    </tr>\n",
              "    <tr>\n",
              "      <th>5</th>\n",
              "      <td>Running time (second)</td>\n",
              "      <td>0.71</td>\n",
              "      <td>3.63</td>\n",
              "      <td>1.67</td>\n",
              "      <td>2.87</td>\n",
              "    </tr>\n",
              "  </tbody>\n",
              "</table>\n",
              "</div>\n",
              "      <button class=\"colab-df-convert\" onclick=\"convertToInteractive('df-30dc13d6-bc04-4c61-81e1-529f90f74a7a')\"\n",
              "              title=\"Convert this dataframe to an interactive table.\"\n",
              "              style=\"display:none;\">\n",
              "        \n",
              "  <svg xmlns=\"http://www.w3.org/2000/svg\" height=\"24px\"viewBox=\"0 0 24 24\"\n",
              "       width=\"24px\">\n",
              "    <path d=\"M0 0h24v24H0V0z\" fill=\"none\"/>\n",
              "    <path d=\"M18.56 5.44l.94 2.06.94-2.06 2.06-.94-2.06-.94-.94-2.06-.94 2.06-2.06.94zm-11 1L8.5 8.5l.94-2.06 2.06-.94-2.06-.94L8.5 2.5l-.94 2.06-2.06.94zm10 10l.94 2.06.94-2.06 2.06-.94-2.06-.94-.94-2.06-.94 2.06-2.06.94z\"/><path d=\"M17.41 7.96l-1.37-1.37c-.4-.4-.92-.59-1.43-.59-.52 0-1.04.2-1.43.59L10.3 9.45l-7.72 7.72c-.78.78-.78 2.05 0 2.83L4 21.41c.39.39.9.59 1.41.59.51 0 1.02-.2 1.41-.59l7.78-7.78 2.81-2.81c.8-.78.8-2.07 0-2.86zM5.41 20L4 18.59l7.72-7.72 1.47 1.35L5.41 20z\"/>\n",
              "  </svg>\n",
              "      </button>\n",
              "      \n",
              "  <style>\n",
              "    .colab-df-container {\n",
              "      display:flex;\n",
              "      flex-wrap:wrap;\n",
              "      gap: 12px;\n",
              "    }\n",
              "\n",
              "    .colab-df-convert {\n",
              "      background-color: #E8F0FE;\n",
              "      border: none;\n",
              "      border-radius: 50%;\n",
              "      cursor: pointer;\n",
              "      display: none;\n",
              "      fill: #1967D2;\n",
              "      height: 32px;\n",
              "      padding: 0 0 0 0;\n",
              "      width: 32px;\n",
              "    }\n",
              "\n",
              "    .colab-df-convert:hover {\n",
              "      background-color: #E2EBFA;\n",
              "      box-shadow: 0px 1px 2px rgba(60, 64, 67, 0.3), 0px 1px 3px 1px rgba(60, 64, 67, 0.15);\n",
              "      fill: #174EA6;\n",
              "    }\n",
              "\n",
              "    [theme=dark] .colab-df-convert {\n",
              "      background-color: #3B4455;\n",
              "      fill: #D2E3FC;\n",
              "    }\n",
              "\n",
              "    [theme=dark] .colab-df-convert:hover {\n",
              "      background-color: #434B5C;\n",
              "      box-shadow: 0px 1px 3px 1px rgba(0, 0, 0, 0.15);\n",
              "      filter: drop-shadow(0px 1px 2px rgba(0, 0, 0, 0.3));\n",
              "      fill: #FFFFFF;\n",
              "    }\n",
              "  </style>\n",
              "\n",
              "      <script>\n",
              "        const buttonEl =\n",
              "          document.querySelector('#df-30dc13d6-bc04-4c61-81e1-529f90f74a7a button.colab-df-convert');\n",
              "        buttonEl.style.display =\n",
              "          google.colab.kernel.accessAllowed ? 'block' : 'none';\n",
              "\n",
              "        async function convertToInteractive(key) {\n",
              "          const element = document.querySelector('#df-30dc13d6-bc04-4c61-81e1-529f90f74a7a');\n",
              "          const dataTable =\n",
              "            await google.colab.kernel.invokeFunction('convertToInteractive',\n",
              "                                                     [key], {});\n",
              "          if (!dataTable) return;\n",
              "\n",
              "          const docLinkHtml = 'Like what you see? Visit the ' +\n",
              "            '<a target=\"_blank\" href=https://colab.research.google.com/notebooks/data_table.ipynb>data table notebook</a>'\n",
              "            + ' to learn more about interactive tables.';\n",
              "          element.innerHTML = '';\n",
              "          dataTable['output_type'] = 'display_data';\n",
              "          await google.colab.output.renderOutput(dataTable, element);\n",
              "          const docLink = document.createElement('div');\n",
              "          docLink.innerHTML = docLinkHtml;\n",
              "          element.appendChild(docLink);\n",
              "        }\n",
              "      </script>\n",
              "    </div>\n",
              "  </div>\n",
              "  "
            ]
          },
          "metadata": {},
          "execution_count": 44
        }
      ]
    }
  ]
}